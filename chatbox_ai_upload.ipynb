{
  "nbformat": 4,
  "nbformat_minor": 0,
  "metadata": {
    "colab": {
      "provenance": []
    },
    "kernelspec": {
      "name": "python3",
      "display_name": "Python 3"
    },
    "language_info": {
      "name": "python"
    },
    "widgets": {
      "application/vnd.jupyter.widget-state+json": {
        "a7577d2106f94da8adaff7868a63e691": {
          "model_module": "@jupyter-widgets/controls",
          "model_name": "VBoxModel",
          "model_module_version": "1.5.0",
          "state": {
            "_dom_classes": [],
            "_model_module": "@jupyter-widgets/controls",
            "_model_module_version": "1.5.0",
            "_model_name": "VBoxModel",
            "_view_count": null,
            "_view_module": "@jupyter-widgets/controls",
            "_view_module_version": "1.5.0",
            "_view_name": "VBoxView",
            "box_style": "",
            "children": [
              "IPY_MODEL_7c8e24e21ad5461c8825354579e8fc66",
              "IPY_MODEL_07bb847143094738b8aeddd8b529b132",
              "IPY_MODEL_9c1468a0685c4236a455f70c5112657e"
            ],
            "layout": "IPY_MODEL_d7292e1831e24f86a4ce17834a8d1927"
          }
        },
        "7c8e24e21ad5461c8825354579e8fc66": {
          "model_module": "@jupyter-widgets/controls",
          "model_name": "TextModel",
          "model_module_version": "1.5.0",
          "state": {
            "_dom_classes": [],
            "_model_module": "@jupyter-widgets/controls",
            "_model_module_version": "1.5.0",
            "_model_name": "TextModel",
            "_view_count": null,
            "_view_module": "@jupyter-widgets/controls",
            "_view_module_version": "1.5.0",
            "_view_name": "TextView",
            "continuous_update": true,
            "description": "",
            "description_tooltip": null,
            "disabled": false,
            "layout": "IPY_MODEL_4769ccc5a23d459883479f5ea5535d6e",
            "placeholder": "​",
            "style": "IPY_MODEL_075081bd0d3e45f89a269c92c6f71ec7",
            "value": ""
          }
        },
        "07bb847143094738b8aeddd8b529b132": {
          "model_module": "@jupyter-widgets/controls",
          "model_name": "ButtonModel",
          "model_module_version": "1.5.0",
          "state": {
            "_dom_classes": [],
            "_model_module": "@jupyter-widgets/controls",
            "_model_module_version": "1.5.0",
            "_model_name": "ButtonModel",
            "_view_count": null,
            "_view_module": "@jupyter-widgets/controls",
            "_view_module_version": "1.5.0",
            "_view_name": "ButtonView",
            "button_style": "",
            "description": "Send",
            "disabled": false,
            "icon": "",
            "layout": "IPY_MODEL_d11a1b6b68ed4b1db2e84498effc1cac",
            "style": "IPY_MODEL_9a45d8d8e2f040928b73ca2e4c5eea7b",
            "tooltip": ""
          }
        },
        "9c1468a0685c4236a455f70c5112657e": {
          "model_module": "@jupyter-widgets/controls",
          "model_name": "TextModel",
          "model_module_version": "1.5.0",
          "state": {
            "_dom_classes": [],
            "_model_module": "@jupyter-widgets/controls",
            "_model_module_version": "1.5.0",
            "_model_name": "TextModel",
            "_view_count": null,
            "_view_module": "@jupyter-widgets/controls",
            "_view_module_version": "1.5.0",
            "_view_name": "TextView",
            "continuous_update": true,
            "description": "",
            "description_tooltip": null,
            "disabled": false,
            "layout": "IPY_MODEL_202d1c81dfe148f2a256912f23b873a6",
            "placeholder": "​",
            "style": "IPY_MODEL_f9fd0665d7ec485c8c6055b707e75997",
            "value": ""
          }
        },
        "d7292e1831e24f86a4ce17834a8d1927": {
          "model_module": "@jupyter-widgets/base",
          "model_name": "LayoutModel",
          "model_module_version": "1.2.0",
          "state": {
            "_model_module": "@jupyter-widgets/base",
            "_model_module_version": "1.2.0",
            "_model_name": "LayoutModel",
            "_view_count": null,
            "_view_module": "@jupyter-widgets/base",
            "_view_module_version": "1.2.0",
            "_view_name": "LayoutView",
            "align_content": null,
            "align_items": null,
            "align_self": null,
            "border": null,
            "bottom": null,
            "display": null,
            "flex": null,
            "flex_flow": null,
            "grid_area": null,
            "grid_auto_columns": null,
            "grid_auto_flow": null,
            "grid_auto_rows": null,
            "grid_column": null,
            "grid_gap": null,
            "grid_row": null,
            "grid_template_areas": null,
            "grid_template_columns": null,
            "grid_template_rows": null,
            "height": null,
            "justify_content": null,
            "justify_items": null,
            "left": null,
            "margin": null,
            "max_height": null,
            "max_width": null,
            "min_height": null,
            "min_width": null,
            "object_fit": null,
            "object_position": null,
            "order": null,
            "overflow": null,
            "overflow_x": null,
            "overflow_y": null,
            "padding": null,
            "right": null,
            "top": null,
            "visibility": null,
            "width": null
          }
        },
        "4769ccc5a23d459883479f5ea5535d6e": {
          "model_module": "@jupyter-widgets/base",
          "model_name": "LayoutModel",
          "model_module_version": "1.2.0",
          "state": {
            "_model_module": "@jupyter-widgets/base",
            "_model_module_version": "1.2.0",
            "_model_name": "LayoutModel",
            "_view_count": null,
            "_view_module": "@jupyter-widgets/base",
            "_view_module_version": "1.2.0",
            "_view_name": "LayoutView",
            "align_content": null,
            "align_items": null,
            "align_self": null,
            "border": null,
            "bottom": null,
            "display": null,
            "flex": null,
            "flex_flow": null,
            "grid_area": null,
            "grid_auto_columns": null,
            "grid_auto_flow": null,
            "grid_auto_rows": null,
            "grid_column": null,
            "grid_gap": null,
            "grid_row": null,
            "grid_template_areas": null,
            "grid_template_columns": null,
            "grid_template_rows": null,
            "height": null,
            "justify_content": null,
            "justify_items": null,
            "left": null,
            "margin": null,
            "max_height": null,
            "max_width": null,
            "min_height": null,
            "min_width": null,
            "object_fit": null,
            "object_position": null,
            "order": null,
            "overflow": null,
            "overflow_x": null,
            "overflow_y": null,
            "padding": null,
            "right": null,
            "top": null,
            "visibility": null,
            "width": null
          }
        },
        "075081bd0d3e45f89a269c92c6f71ec7": {
          "model_module": "@jupyter-widgets/controls",
          "model_name": "DescriptionStyleModel",
          "model_module_version": "1.5.0",
          "state": {
            "_model_module": "@jupyter-widgets/controls",
            "_model_module_version": "1.5.0",
            "_model_name": "DescriptionStyleModel",
            "_view_count": null,
            "_view_module": "@jupyter-widgets/base",
            "_view_module_version": "1.2.0",
            "_view_name": "StyleView",
            "description_width": ""
          }
        },
        "d11a1b6b68ed4b1db2e84498effc1cac": {
          "model_module": "@jupyter-widgets/base",
          "model_name": "LayoutModel",
          "model_module_version": "1.2.0",
          "state": {
            "_model_module": "@jupyter-widgets/base",
            "_model_module_version": "1.2.0",
            "_model_name": "LayoutModel",
            "_view_count": null,
            "_view_module": "@jupyter-widgets/base",
            "_view_module_version": "1.2.0",
            "_view_name": "LayoutView",
            "align_content": null,
            "align_items": null,
            "align_self": null,
            "border": null,
            "bottom": null,
            "display": null,
            "flex": null,
            "flex_flow": null,
            "grid_area": null,
            "grid_auto_columns": null,
            "grid_auto_flow": null,
            "grid_auto_rows": null,
            "grid_column": null,
            "grid_gap": null,
            "grid_row": null,
            "grid_template_areas": null,
            "grid_template_columns": null,
            "grid_template_rows": null,
            "height": null,
            "justify_content": null,
            "justify_items": null,
            "left": null,
            "margin": null,
            "max_height": null,
            "max_width": null,
            "min_height": null,
            "min_width": null,
            "object_fit": null,
            "object_position": null,
            "order": null,
            "overflow": null,
            "overflow_x": null,
            "overflow_y": null,
            "padding": null,
            "right": null,
            "top": null,
            "visibility": null,
            "width": null
          }
        },
        "9a45d8d8e2f040928b73ca2e4c5eea7b": {
          "model_module": "@jupyter-widgets/controls",
          "model_name": "ButtonStyleModel",
          "model_module_version": "1.5.0",
          "state": {
            "_model_module": "@jupyter-widgets/controls",
            "_model_module_version": "1.5.0",
            "_model_name": "ButtonStyleModel",
            "_view_count": null,
            "_view_module": "@jupyter-widgets/base",
            "_view_module_version": "1.2.0",
            "_view_name": "StyleView",
            "button_color": null,
            "font_weight": ""
          }
        },
        "202d1c81dfe148f2a256912f23b873a6": {
          "model_module": "@jupyter-widgets/base",
          "model_name": "LayoutModel",
          "model_module_version": "1.2.0",
          "state": {
            "_model_module": "@jupyter-widgets/base",
            "_model_module_version": "1.2.0",
            "_model_name": "LayoutModel",
            "_view_count": null,
            "_view_module": "@jupyter-widgets/base",
            "_view_module_version": "1.2.0",
            "_view_name": "LayoutView",
            "align_content": null,
            "align_items": null,
            "align_self": null,
            "border": null,
            "bottom": null,
            "display": null,
            "flex": null,
            "flex_flow": null,
            "grid_area": null,
            "grid_auto_columns": null,
            "grid_auto_flow": null,
            "grid_auto_rows": null,
            "grid_column": null,
            "grid_gap": null,
            "grid_row": null,
            "grid_template_areas": null,
            "grid_template_columns": null,
            "grid_template_rows": null,
            "height": null,
            "justify_content": null,
            "justify_items": null,
            "left": null,
            "margin": null,
            "max_height": null,
            "max_width": null,
            "min_height": null,
            "min_width": null,
            "object_fit": null,
            "object_position": null,
            "order": null,
            "overflow": null,
            "overflow_x": null,
            "overflow_y": null,
            "padding": null,
            "right": null,
            "top": null,
            "visibility": null,
            "width": null
          }
        },
        "f9fd0665d7ec485c8c6055b707e75997": {
          "model_module": "@jupyter-widgets/controls",
          "model_name": "DescriptionStyleModel",
          "model_module_version": "1.5.0",
          "state": {
            "_model_module": "@jupyter-widgets/controls",
            "_model_module_version": "1.5.0",
            "_model_name": "DescriptionStyleModel",
            "_view_count": null,
            "_view_module": "@jupyter-widgets/base",
            "_view_module_version": "1.2.0",
            "_view_name": "StyleView",
            "description_width": ""
          }
        }
      }
    }
  },
  "cells": [
    {
      "cell_type": "code",
      "source": [
        "!pip install nltk\n",
        "!python -m nltk.downloader wordnet"
      ],
      "metadata": {
        "colab": {
          "base_uri": "https://localhost:8080/"
        },
        "id": "cl54yvgiccN0",
        "outputId": "c1e9db52-bdb4-457b-a464-2472bcb9b523"
      },
      "execution_count": 2,
      "outputs": [
        {
          "output_type": "stream",
          "name": "stdout",
          "text": [
            "Requirement already satisfied: nltk in /usr/local/lib/python3.10/dist-packages (3.8.1)\n",
            "Requirement already satisfied: click in /usr/local/lib/python3.10/dist-packages (from nltk) (8.1.7)\n",
            "Requirement already satisfied: joblib in /usr/local/lib/python3.10/dist-packages (from nltk) (1.4.2)\n",
            "Requirement already satisfied: regex>=2021.8.3 in /usr/local/lib/python3.10/dist-packages (from nltk) (2024.5.15)\n",
            "Requirement already satisfied: tqdm in /usr/local/lib/python3.10/dist-packages (from nltk) (4.66.4)\n",
            "/usr/lib/python3.10/runpy.py:126: RuntimeWarning: 'nltk.downloader' found in sys.modules after import of package 'nltk', but prior to execution of 'nltk.downloader'; this may result in unpredictable behaviour\n",
            "  warn(RuntimeWarning(msg))\n",
            "[nltk_data] Downloading package wordnet to /root/nltk_data...\n"
          ]
        }
      ]
    },
    {
      "cell_type": "code",
      "source": [
        "!python -m nltk.downloader stopwords"
      ],
      "metadata": {
        "colab": {
          "base_uri": "https://localhost:8080/"
        },
        "id": "uNdrKrzmcBPe",
        "outputId": "d8dddfd9-c5c7-4b64-e5e7-2f4dae121208"
      },
      "execution_count": 3,
      "outputs": [
        {
          "output_type": "stream",
          "name": "stdout",
          "text": [
            "/usr/lib/python3.10/runpy.py:126: RuntimeWarning: 'nltk.downloader' found in sys.modules after import of package 'nltk', but prior to execution of 'nltk.downloader'; this may result in unpredictable behaviour\n",
            "  warn(RuntimeWarning(msg))\n",
            "[nltk_data] Downloading package stopwords to /root/nltk_data...\n",
            "[nltk_data]   Unzipping corpora/stopwords.zip.\n"
          ]
        }
      ]
    },
    {
      "cell_type": "code",
      "source": [
        "!pip install nltk\n",
        "!python -m nltk.downloader punkt"
      ],
      "metadata": {
        "colab": {
          "base_uri": "https://localhost:8080/"
        },
        "id": "btBNm2M2btXf",
        "outputId": "230d2317-126d-4112-a9d5-bca23a623045"
      },
      "execution_count": 4,
      "outputs": [
        {
          "output_type": "stream",
          "name": "stdout",
          "text": [
            "Requirement already satisfied: nltk in /usr/local/lib/python3.10/dist-packages (3.8.1)\n",
            "Requirement already satisfied: click in /usr/local/lib/python3.10/dist-packages (from nltk) (8.1.7)\n",
            "Requirement already satisfied: joblib in /usr/local/lib/python3.10/dist-packages (from nltk) (1.4.2)\n",
            "Requirement already satisfied: regex>=2021.8.3 in /usr/local/lib/python3.10/dist-packages (from nltk) (2024.5.15)\n",
            "Requirement already satisfied: tqdm in /usr/local/lib/python3.10/dist-packages (from nltk) (4.66.4)\n",
            "/usr/lib/python3.10/runpy.py:126: RuntimeWarning: 'nltk.downloader' found in sys.modules after import of package 'nltk', but prior to execution of 'nltk.downloader'; this may result in unpredictable behaviour\n",
            "  warn(RuntimeWarning(msg))\n",
            "[nltk_data] Downloading package punkt to /root/nltk_data...\n",
            "[nltk_data]   Unzipping tokenizers/punkt.zip.\n"
          ]
        }
      ]
    },
    {
      "cell_type": "markdown",
      "source": [
        "# New Section"
      ],
      "metadata": {
        "id": "jUat0WeoKngi"
      }
    },
    {
      "cell_type": "code",
      "source": [],
      "metadata": {
        "id": "IBfQLycnN6Gd"
      },
      "execution_count": null,
      "outputs": []
    },
    {
      "cell_type": "code",
      "source": [
        "!ls /content/chatbox/"
      ],
      "metadata": {
        "colab": {
          "base_uri": "https://localhost:8080/"
        },
        "id": "tA6eOzeZKHHr",
        "outputId": "86437a06-d32e-4056-84ba-a901fe8856b8"
      },
      "execution_count": 14,
      "outputs": [
        {
          "output_type": "stream",
          "name": "stdout",
          "text": [
            "ls: cannot access '/content/chatbox/': No such file or directory\n"
          ]
        }
      ]
    },
    {
      "cell_type": "code",
      "execution_count": 15,
      "metadata": {
        "id": "PSajmMCYnfnY"
      },
      "outputs": [],
      "source": [
        "from bs4 import BeautifulSoup\n",
        "import requests\n",
        "\n",
        "# URL of the webpage containing chat conversations\n",
        "url = \"https://example.com/chat\"\n",
        "\n",
        "# Send a request to the webpage\n",
        "response = requests.get(url)\n",
        "\n",
        "# Parse the HTML content of the webpage\n",
        "soup = BeautifulSoup(response.text, 'html.parser')\n",
        "\n",
        "# Find the chat conversation elements in the HTML\n",
        "conversations = soup.find_all(\"div\", class_=\"chat-conversation\")\n",
        "\n",
        "# Process and store the conversations in your dataset\n",
        "dataset = []\n",
        "for conversation in conversations:\n",
        "    # Extract the text content of each message\n",
        "    messages = [message.text for message in conversation.find_all(\"div\", class_=\"message\")]\n",
        "\n",
        "    # Add the conversation to the dataset\n",
        "    dataset.append(messages)"
      ]
    },
    {
      "cell_type": "code",
      "source": [
        "import nltk\n",
        "from nltk.tokenize import word_tokenize\n",
        "from nltk.corpus import stopwords\n",
        "from nltk.stem import WordNetLemmatizer\n",
        "\n",
        "# Download the stopwords and wordnet corpora (if necessary)\n",
        "nltk.download('stopwords')\n",
        "nltk.download('wordnet')\n",
        "\n",
        "# Text preprocessing function\n",
        "def preprocess_text(text):\n",
        "    # Convert to lowercase\n",
        "    text = text.lower()\n",
        "\n",
        "    # Tokenize the text\n",
        "    tokens = word_tokenize(text)\n",
        "\n",
        "    # Remove stopwords\n",
        "    stop_words = set(stopwords.words('english'))\n",
        "    tokens = [token for token in tokens if token not in stop_words]\n",
        "\n",
        "    # Lemmatize the tokens\n",
        "    lemmatizer = WordNetLemmatizer()\n",
        "    tokens = [lemmatizer.lemmatize(token) for token in tokens]\n",
        "\n",
        "    # Return the preprocessed text\n",
        "    return tokens\n",
        "\n",
        "# Example usage\n",
        "text = \"The quick brown fox jumps over the lazy dog\"\n",
        "preprocessed_text = preprocess_text(text)\n",
        "print(preprocessed_text)"
      ],
      "metadata": {
        "id": "dVK_6xh8cZDR",
        "colab": {
          "base_uri": "https://localhost:8080/"
        },
        "outputId": "17b4735c-4fad-4a75-f710-705bba90e277"
      },
      "execution_count": 8,
      "outputs": [
        {
          "output_type": "stream",
          "name": "stderr",
          "text": [
            "[nltk_data] Downloading package stopwords to /root/nltk_data...\n",
            "[nltk_data]   Package stopwords is already up-to-date!\n",
            "[nltk_data] Downloading package wordnet to /root/nltk_data...\n",
            "[nltk_data]   Package wordnet is already up-to-date!\n"
          ]
        },
        {
          "output_type": "stream",
          "name": "stdout",
          "text": [
            "['quick', 'brown', 'fox', 'jump', 'lazy', 'dog']\n"
          ]
        }
      ]
    },
    {
      "cell_type": "code",
      "source": [
        "# Define a set of keywords for each intent\n",
        "intents = {\n",
        "    \"greeting\": [\"hello\", \"hi\", \"hey\"],\n",
        "    \"goodbye\": [\"bye\", \"see you\", \"goodbye\"],\n",
        "    \"question\": [\"what\", \"where\", \"when\", \"how\", \"why\"]\n",
        "}\n",
        "\n",
        "# Function to recognize the intent based on keywords\n",
        "def recognize_intent(text):\n",
        "    for intent, keywords in intents.items():\n",
        "        for keyword in keywords:\n",
        "            if keyword in text:\n",
        "                return intent\n",
        "    return \"unknown\"\n",
        "\n",
        "# Example usage of the intent recognition function\n",
        "text = \"Hi, how are you?\"\n",
        "intent = recognize_intent(text)\n",
        "print(intent)"
      ],
      "metadata": {
        "id": "6Qy8MaEObIJ-",
        "colab": {
          "base_uri": "https://localhost:8080/"
        },
        "outputId": "2f5c95c5-099c-4b3d-b895-b6597330d37e"
      },
      "execution_count": 9,
      "outputs": [
        {
          "output_type": "stream",
          "name": "stdout",
          "text": [
            "question\n"
          ]
        }
      ]
    },
    {
      "cell_type": "code",
      "source": [
        "# Define response templates for each intent\n",
        "responses = {\n",
        "    \"greeting\": \"Hello, how can I help you?\",\n",
        "    \"goodbye\": \"Goodbye! Have a nice day!\",\n",
        "    \"question\": \"I'm sorry, I don't have the answer right now.\"\n",
        "}\n",
        "\n",
        "# Function to generate a response based on the intent\n",
        "def generate_response(intent):\n",
        "    if intent in responses:\n",
        "        return responses[intent]\n",
        "    else:\n",
        "        return \"Sorry, I don't understand.\"\n",
        "\n",
        "# Example usage of the response generation function\n",
        "intent = \"greeting\"\n",
        "response = generate_response(intent)\n",
        "print(response)"
      ],
      "metadata": {
        "id": "MQMU7AnwbSKN",
        "colab": {
          "base_uri": "https://localhost:8080/"
        },
        "outputId": "939ddaed-7a08-4d92-d18d-f88334d6f5cd"
      },
      "execution_count": 10,
      "outputs": [
        {
          "output_type": "stream",
          "name": "stdout",
          "text": [
            "Hello, how can I help you?\n"
          ]
        }
      ]
    },
    {
      "cell_type": "code",
      "source": [
        "from ipywidgets import Text, Button, VBox\n",
        "\n",
        "# Create a text field for user input\n",
        "user_input = Text()\n",
        "\n",
        "# Create a button to trigger user input handling\n",
        "send_button = Button(description=\"Send\")\n",
        "\n",
        "# Create a label to display bot responses\n",
        "display = Text()\n",
        "\n",
        "# Define a function to handle user input\n",
        "def handle_input(button):\n",
        "    intent = recognize_intent(user_input.value)\n",
        "    response = generate_response(intent)\n",
        "    display.value = response\n",
        "\n",
        "# Connect the button to the input handling function\n",
        "send_button.on_click(handle_input)\n",
        "\n",
        "# Display the widgets\n",
        "VBox([user_input, send_button, display])"
      ],
      "metadata": {
        "id": "9x6TIJSQc7Aq",
        "colab": {
          "base_uri": "https://localhost:8080/",
          "height": 113,
          "referenced_widgets": [
            "a7577d2106f94da8adaff7868a63e691",
            "7c8e24e21ad5461c8825354579e8fc66",
            "07bb847143094738b8aeddd8b529b132",
            "9c1468a0685c4236a455f70c5112657e",
            "d7292e1831e24f86a4ce17834a8d1927",
            "4769ccc5a23d459883479f5ea5535d6e",
            "075081bd0d3e45f89a269c92c6f71ec7",
            "d11a1b6b68ed4b1db2e84498effc1cac",
            "9a45d8d8e2f040928b73ca2e4c5eea7b",
            "202d1c81dfe148f2a256912f23b873a6",
            "f9fd0665d7ec485c8c6055b707e75997"
          ]
        },
        "outputId": "77c10077-5fdc-432d-c958-583c7a914b98"
      },
      "execution_count": 1,
      "outputs": [
        {
          "output_type": "display_data",
          "data": {
            "text/plain": [
              "VBox(children=(Text(value=''), Button(description='Send', style=ButtonStyle()), Text(value='')))"
            ],
            "application/vnd.jupyter.widget-view+json": {
              "version_major": 2,
              "version_minor": 0,
              "model_id": "a7577d2106f94da8adaff7868a63e691"
            }
          },
          "metadata": {}
        }
      ]
    },
    {
      "cell_type": "code",
      "source": [
        "# Function to update intents based on user feedback\n",
        "def update_intents(intent, user_feedback):\n",
        "    if user_feedback == \"positive\":\n",
        "        # Increase the confidence score of the recognized intent\n",
        "        intents[intent][\"confidence\"] += 1"
      ],
      "metadata": {
        "id": "w7CntCmwbf2C"
      },
      "execution_count": 11,
      "outputs": []
    },
    {
      "cell_type": "code",
      "source": [
        "from sklearn.feature_extraction.text import TfidfVectorizer\n",
        "from sklearn.model_selection import train_test_split\n",
        "from sklearn.linear_model import LogisticRegression\n",
        "from sklearn.pipeline import make_pipeline\n",
        "\n",
        "# Example intents and responses (This should be part of your dataset)\n",
        "intents = [\n",
        "    {\"intent\": \"greeting\", \"patterns\": [\"hi\", \"hello\", \"hey\"], \"responses\": [\"Hello!\", \"Hi there!\", \"Hey!\"]},\n",
        "    {\"intent\": \"goodbye\", \"patterns\": [\"bye\", \"goodbye\", \"see you\"], \"responses\": [\"Goodbye!\", \"See you later!\", \"Bye!\"]}\n",
        "]\n",
        "\n",
        "# Create a dataset for intents\n",
        "intent_data = []\n",
        "for intent in intents:\n",
        "    for pattern in intent[\"patterns\"]:\n",
        "        intent_data.append((pattern, intent[\"intent\"]))\n",
        "\n",
        "intent_df = pd.DataFrame(intent_data, columns=[\"text\", \"intent\"])\n",
        "\n",
        "# Vectorize the text data\n",
        "X = intent_df['text']\n",
        "y = intent_df['intent']\n",
        "\n",
        "# Split the data\n",
        "X_train, X_test, y_train, y_test = train_test_split(X, y, test_size=0.2, random_state=42)\n",
        "\n",
        "# Create a pipeline\n",
        "pipeline = make_pipeline(TfidfVectorizer(), LogisticRegression())\n",
        "pipeline.fit(X_train, y_train)\n",
        "\n",
        "# Evaluate the model\n",
        "accuracy = pipeline.score(X_test, y_test)\n",
        "print(f\"Model accuracy: {accuracy * 100:.2f}%\")\n"
      ],
      "metadata": {
        "colab": {
          "base_uri": "https://localhost:8080/"
        },
        "id": "AGRio5JpnQIH",
        "outputId": "07607af0-c4ab-48a9-c841-40cd9ce6d54f"
      },
      "execution_count": 26,
      "outputs": [
        {
          "output_type": "stream",
          "name": "stdout",
          "text": [
            "Model accuracy: 0.00%\n"
          ]
        }
      ]
    },
    {
      "cell_type": "code",
      "source": [
        "import random\n",
        "\n",
        "def get_response(intent):\n",
        "    for i in intents:\n",
        "        if i[\"intent\"] == intent:\n",
        "            return random.choice(i[\"responses\"])\n",
        "    return \"I'm not sure how to respond to that.\"\n",
        "\n",
        "# Test response generation\n",
        "user_input = \"hello\"\n",
        "predicted_intent = pipeline.predict([user_input])[0]\n",
        "response = get_response(predicted_intent)\n",
        "print(f\"User: {user_input}\\nBot: {response}\")\n"
      ],
      "metadata": {
        "colab": {
          "base_uri": "https://localhost:8080/"
        },
        "id": "Nsak5kGOlrZD",
        "outputId": "6c4b1587-1ff8-49bd-e97b-f11527fa69b4"
      },
      "execution_count": 21,
      "outputs": [
        {
          "output_type": "stream",
          "name": "stdout",
          "text": [
            "User: hello\n",
            "Bot: See you later!\n"
          ]
        }
      ]
    },
    {
      "cell_type": "code",
      "source": [
        "def chatbot():\n",
        "    print(\"Chatbot is running. Type 'exit' to quit.\")\n",
        "    while True:\n",
        "        user_input = input(\"You: \")\n",
        "        if user_input.lower() == 'exit':\n",
        "            break\n",
        "        predicted_intent = pipeline.predict([user_input])[0]\n",
        "        response = get_response(predicted_intent)\n",
        "        print(f\"Bot: {response}\")\n",
        "\n",
        "# Start the chatbot\n",
        "chatbot()\n"
      ],
      "metadata": {
        "colab": {
          "base_uri": "https://localhost:8080/"
        },
        "id": "pRgawIMnlvBU",
        "outputId": "a423bb3a-0c64-4312-8919-040964535d8b"
      },
      "execution_count": 27,
      "outputs": [
        {
          "name": "stdout",
          "output_type": "stream",
          "text": [
            "Chatbot is running. Type 'exit' to quit.\n",
            "You: exit\n"
          ]
        }
      ]
    },
    {
      "cell_type": "code",
      "source": [
        "def chatbot_with_feedback():\n",
        "    print(\"Chatbot is running. Type 'exit' to quit.\")\n",
        "    while True:\n",
        "        user_input = input(\"You: \")\n",
        "        if user_input.lower() == 'exit':\n",
        "            break\n",
        "        predicted_intent = pipeline.predict([user_input])[0]\n",
        "        response = get_response(predicted_intent)\n",
        "        print(f\"Bot: {response}\")\n",
        "\n",
        "        feedback = input(\"Was this response helpful? (yes/no): \")\n",
        "        if feedback.lower() == 'no':\n",
        "            correct_intent = input(\"Please provide the correct intent: \")\n",
        "            # Add new pattern to intents\n",
        "            for i in intents:\n",
        "                if i[\"intent\"] == correct_intent:\n",
        "                    i[\"patterns\"].append(user_input)\n",
        "            # Retrain the model\n",
        "            intent_data.append((user_input, correct_intent))\n",
        "            intent_df = pd.DataFrame(intent_data, columns=[\"text\", \"intent\"])\n",
        "            X = intent_df['text']\n",
        "            y = intent_df['intent']\n",
        "            pipeline.fit(X, y)\n",
        "\n",
        "# Start the chatbot with feedback loop\n",
        "chatbot_with_feedback()\n"
      ],
      "metadata": {
        "colab": {
          "base_uri": "https://localhost:8080/"
        },
        "id": "k29JspXbl9L1",
        "outputId": "ea0f36c4-5dfe-4ce1-9958-1fdb23bffeb3"
      },
      "execution_count": 28,
      "outputs": [
        {
          "name": "stdout",
          "output_type": "stream",
          "text": [
            "Chatbot is running. Type 'exit' to quit.\n",
            "You: exit\n"
          ]
        }
      ]
    }
  ]
}